{
 "cells": [
  {
   "cell_type": "markdown",
   "id": "b4d09f2f-d3e4-418f-85ce-6965d299a71a",
   "metadata": {},
   "source": [
    "# 📊 IPL Exploratory Data Analysis (EDA) Project\n",
    "\n",
    "This project performs an exploratory data analysis on IPL data from 2008 to 2024. It utilizes Python libraries like `pandas`, `matplotlib`, `seaborn`, and `plotly` to gain insights and perform visual storytelling.  \n",
    "We cover:\n",
    "\n",
    "- Run trends across seasons  \n",
    "- Batting styles (Anchor vs Aggressive)  \n",
    "- Bowling consistency  \n",
    "- Overs-based performance  \n",
    "- Venue comparisons  \n",
    "- Match-winner prediction (optional)"
   ]
  },
  {
   "cell_type": "markdown",
   "id": "9a57c0eb-8982-4bdd-9c62-801e3b3602b3",
   "metadata": {},
   "source": [
    "## 🧰 Importing Libraries"
   ]
  },
  {
   "cell_type": "code",
   "execution_count": 1,
   "id": "6436442f-7e0d-4393-871c-b58e8e77826c",
   "metadata": {},
   "outputs": [],
   "source": [
    "import pandas as pd\n",
    "import numpy as np\n",
    "import matplotlib.pyplot as plt\n",
    "import seaborn as sns\n",
    "import plotly.express as px\n",
    "import warnings\n",
    "warnings.filterwarnings('ignore')"
   ]
  },
  {
   "cell_type": "markdown",
   "id": "c7b737d8-09f2-4a0d-ba1a-054fdfd59293",
   "metadata": {},
   "source": [
    "## 📚 Loading IPL Datasets"
   ]
  },
  {
   "cell_type": "code",
   "execution_count": 2,
   "id": "83d557fc-f85f-4637-bb97-45f7237f7bfb",
   "metadata": {},
   "outputs": [],
   "source": [
    "ball_df = pd.read_csv(\"IPL_BallByBall2008_2024_Updated.csv\")\n",
    "teams_df = pd.read_csv(\"ipl_teams_2024_info.csv\")\n",
    "players_df = pd.read_csv(\"Players_Info_2024.csv\")\n",
    "team_perf_df = pd.read_csv(\"team_performance_dataset_2008to2024.csv\")"
   ]
  },
  {
   "cell_type": "markdown",
   "id": "e536831b-772e-4eda-8634-0e8cd492830f",
   "metadata": {},
   "source": [
    "## 🔍 **Data Overview**\n",
    "\n",
    "In this section, we take a closer look at the structure and contents of the IPL datasets — including the number of records, column types, and any potential null values. This helps us prepare for further analysis and cleaning."
   ]
  },
  {
   "cell_type": "code",
   "execution_count": 3,
   "id": "0717ad5a-6bc7-440a-9df2-e5ada547f9d4",
   "metadata": {},
   "outputs": [
    {
     "name": "stdout",
     "output_type": "stream",
     "text": [
      "📋 Ball-by-Ball Data:\n"
     ]
    },
    {
     "data": {
      "text/html": [
       "<div>\n",
       "<style scoped>\n",
       "    .dataframe tbody tr th:only-of-type {\n",
       "        vertical-align: middle;\n",
       "    }\n",
       "\n",
       "    .dataframe tbody tr th {\n",
       "        vertical-align: top;\n",
       "    }\n",
       "\n",
       "    .dataframe thead th {\n",
       "        text-align: right;\n",
       "    }\n",
       "</style>\n",
       "<table border=\"1\" class=\"dataframe\">\n",
       "  <thead>\n",
       "    <tr style=\"text-align: right;\">\n",
       "      <th></th>\n",
       "      <th>Match id</th>\n",
       "      <th>Date</th>\n",
       "      <th>Season</th>\n",
       "      <th>Batting team</th>\n",
       "      <th>Bowling team</th>\n",
       "      <th>Innings No</th>\n",
       "      <th>Ball No</th>\n",
       "      <th>Bowler</th>\n",
       "      <th>Striker</th>\n",
       "      <th>Non Striker</th>\n",
       "      <th>runs_scored</th>\n",
       "      <th>extras</th>\n",
       "      <th>type of extras</th>\n",
       "      <th>score</th>\n",
       "      <th>score/wicket</th>\n",
       "      <th>wicket_confirmation</th>\n",
       "      <th>wicket_type</th>\n",
       "      <th>fielders_involved</th>\n",
       "      <th>Player Out</th>\n",
       "    </tr>\n",
       "  </thead>\n",
       "  <tbody>\n",
       "    <tr>\n",
       "      <th>0</th>\n",
       "      <td>335982</td>\n",
       "      <td>18/04/2008</td>\n",
       "      <td>2007/08</td>\n",
       "      <td>Kolkata Knight Riders</td>\n",
       "      <td>Royal Challengers Bangalore</td>\n",
       "      <td>1</td>\n",
       "      <td>0.1</td>\n",
       "      <td>P Kumar</td>\n",
       "      <td>SC Ganguly</td>\n",
       "      <td>BB McCullum</td>\n",
       "      <td>0</td>\n",
       "      <td>1</td>\n",
       "      <td>legbyes</td>\n",
       "      <td>1</td>\n",
       "      <td>1/0</td>\n",
       "      <td>0</td>\n",
       "      <td>NaN</td>\n",
       "      <td>NaN</td>\n",
       "      <td>NaN</td>\n",
       "    </tr>\n",
       "    <tr>\n",
       "      <th>1</th>\n",
       "      <td>335982</td>\n",
       "      <td>18/04/2008</td>\n",
       "      <td>2007/08</td>\n",
       "      <td>Kolkata Knight Riders</td>\n",
       "      <td>Royal Challengers Bangalore</td>\n",
       "      <td>1</td>\n",
       "      <td>0.2</td>\n",
       "      <td>P Kumar</td>\n",
       "      <td>BB McCullum</td>\n",
       "      <td>SC Ganguly</td>\n",
       "      <td>0</td>\n",
       "      <td>0</td>\n",
       "      <td>NaN</td>\n",
       "      <td>1</td>\n",
       "      <td>1/0</td>\n",
       "      <td>0</td>\n",
       "      <td>NaN</td>\n",
       "      <td>NaN</td>\n",
       "      <td>NaN</td>\n",
       "    </tr>\n",
       "    <tr>\n",
       "      <th>2</th>\n",
       "      <td>335982</td>\n",
       "      <td>18/04/2008</td>\n",
       "      <td>2007/08</td>\n",
       "      <td>Kolkata Knight Riders</td>\n",
       "      <td>Royal Challengers Bangalore</td>\n",
       "      <td>1</td>\n",
       "      <td>0.2</td>\n",
       "      <td>P Kumar</td>\n",
       "      <td>BB McCullum</td>\n",
       "      <td>SC Ganguly</td>\n",
       "      <td>0</td>\n",
       "      <td>1</td>\n",
       "      <td>wides</td>\n",
       "      <td>2</td>\n",
       "      <td>2/0</td>\n",
       "      <td>0</td>\n",
       "      <td>NaN</td>\n",
       "      <td>NaN</td>\n",
       "      <td>NaN</td>\n",
       "    </tr>\n",
       "    <tr>\n",
       "      <th>3</th>\n",
       "      <td>335982</td>\n",
       "      <td>18/04/2008</td>\n",
       "      <td>2007/08</td>\n",
       "      <td>Kolkata Knight Riders</td>\n",
       "      <td>Royal Challengers Bangalore</td>\n",
       "      <td>1</td>\n",
       "      <td>0.3</td>\n",
       "      <td>P Kumar</td>\n",
       "      <td>BB McCullum</td>\n",
       "      <td>SC Ganguly</td>\n",
       "      <td>0</td>\n",
       "      <td>0</td>\n",
       "      <td>NaN</td>\n",
       "      <td>2</td>\n",
       "      <td>2/0</td>\n",
       "      <td>0</td>\n",
       "      <td>NaN</td>\n",
       "      <td>NaN</td>\n",
       "      <td>NaN</td>\n",
       "    </tr>\n",
       "    <tr>\n",
       "      <th>4</th>\n",
       "      <td>335982</td>\n",
       "      <td>18/04/2008</td>\n",
       "      <td>2007/08</td>\n",
       "      <td>Kolkata Knight Riders</td>\n",
       "      <td>Royal Challengers Bangalore</td>\n",
       "      <td>1</td>\n",
       "      <td>0.4</td>\n",
       "      <td>P Kumar</td>\n",
       "      <td>BB McCullum</td>\n",
       "      <td>SC Ganguly</td>\n",
       "      <td>0</td>\n",
       "      <td>0</td>\n",
       "      <td>NaN</td>\n",
       "      <td>2</td>\n",
       "      <td>2/0</td>\n",
       "      <td>0</td>\n",
       "      <td>NaN</td>\n",
       "      <td>NaN</td>\n",
       "      <td>NaN</td>\n",
       "    </tr>\n",
       "  </tbody>\n",
       "</table>\n",
       "</div>"
      ],
      "text/plain": [
       "   Match id        Date   Season           Batting team  \\\n",
       "0    335982  18/04/2008  2007/08  Kolkata Knight Riders   \n",
       "1    335982  18/04/2008  2007/08  Kolkata Knight Riders   \n",
       "2    335982  18/04/2008  2007/08  Kolkata Knight Riders   \n",
       "3    335982  18/04/2008  2007/08  Kolkata Knight Riders   \n",
       "4    335982  18/04/2008  2007/08  Kolkata Knight Riders   \n",
       "\n",
       "                  Bowling team  Innings No  Ball No   Bowler      Striker  \\\n",
       "0  Royal Challengers Bangalore           1      0.1  P Kumar   SC Ganguly   \n",
       "1  Royal Challengers Bangalore           1      0.2  P Kumar  BB McCullum   \n",
       "2  Royal Challengers Bangalore           1      0.2  P Kumar  BB McCullum   \n",
       "3  Royal Challengers Bangalore           1      0.3  P Kumar  BB McCullum   \n",
       "4  Royal Challengers Bangalore           1      0.4  P Kumar  BB McCullum   \n",
       "\n",
       "   Non Striker  runs_scored  extras type of extras  score score/wicket  \\\n",
       "0  BB McCullum            0       1        legbyes      1          1/0   \n",
       "1   SC Ganguly            0       0            NaN      1          1/0   \n",
       "2   SC Ganguly            0       1          wides      2          2/0   \n",
       "3   SC Ganguly            0       0            NaN      2          2/0   \n",
       "4   SC Ganguly            0       0            NaN      2          2/0   \n",
       "\n",
       "   wicket_confirmation wicket_type fielders_involved Player Out  \n",
       "0                    0         NaN               NaN        NaN  \n",
       "1                    0         NaN               NaN        NaN  \n",
       "2                    0         NaN               NaN        NaN  \n",
       "3                    0         NaN               NaN        NaN  \n",
       "4                    0         NaN               NaN        NaN  "
      ]
     },
     "metadata": {},
     "output_type": "display_data"
    }
   ],
   "source": [
    "print(\"📋 Ball-by-Ball Data:\")\n",
    "display(ball_df.head())"
   ]
  },
  {
   "cell_type": "code",
   "execution_count": 4,
   "id": "62b63731-3664-40f1-9972-f5834858c1d5",
   "metadata": {},
   "outputs": [
    {
     "name": "stdout",
     "output_type": "stream",
     "text": [
      "\n",
      "📋 Teams Info:\n"
     ]
    },
    {
     "data": {
      "text/html": [
       "<div>\n",
       "<style scoped>\n",
       "    .dataframe tbody tr th:only-of-type {\n",
       "        vertical-align: middle;\n",
       "    }\n",
       "\n",
       "    .dataframe tbody tr th {\n",
       "        vertical-align: top;\n",
       "    }\n",
       "\n",
       "    .dataframe thead th {\n",
       "        text-align: right;\n",
       "    }\n",
       "</style>\n",
       "<table border=\"1\" class=\"dataframe\">\n",
       "  <thead>\n",
       "    <tr style=\"text-align: right;\">\n",
       "      <th></th>\n",
       "      <th>Team Full Name</th>\n",
       "      <th>Team Captain (Current)</th>\n",
       "      <th>Team Coach (Current)</th>\n",
       "      <th>Team Home Ground (Current)</th>\n",
       "      <th>Number of IPL Titles</th>\n",
       "      <th>Team Owners</th>\n",
       "      <th>Team About</th>\n",
       "    </tr>\n",
       "  </thead>\n",
       "  <tbody>\n",
       "    <tr>\n",
       "      <th>0</th>\n",
       "      <td>Chennai Super Kings</td>\n",
       "      <td>MS Dhoni</td>\n",
       "      <td>Stephen Fleming</td>\n",
       "      <td>MA Chidambaram Stadium, Chennai</td>\n",
       "      <td>5 (2010, 2011, 2018, 2021, 2023)</td>\n",
       "      <td>Chennai Super Kings Cricket Ltd (subsidiary of...</td>\n",
       "      <td>The most consistent IPL franchise ever, Chenna...</td>\n",
       "    </tr>\n",
       "    <tr>\n",
       "      <th>1</th>\n",
       "      <td>Delhi Capitals</td>\n",
       "      <td>Rishabh Pant</td>\n",
       "      <td>Ricky Ponting</td>\n",
       "      <td>Arun Jaitley Stadium, New Delhi</td>\n",
       "      <td>0</td>\n",
       "      <td>GMR Sports Pvt Ltd, JSW Sports Pvt Ltd</td>\n",
       "      <td>Delhi Capitals (earlier Daredevils) stumbled i...</td>\n",
       "    </tr>\n",
       "    <tr>\n",
       "      <th>2</th>\n",
       "      <td>Gujarat Titans</td>\n",
       "      <td>Shubman Gill</td>\n",
       "      <td>Ashish Nehra</td>\n",
       "      <td>Narendra Modi Stadium, Ahmedabad</td>\n",
       "      <td>1 (2022)</td>\n",
       "      <td>CVC Capital Partners</td>\n",
       "      <td>Gujarat Titans were one of two new teams intro...</td>\n",
       "    </tr>\n",
       "    <tr>\n",
       "      <th>3</th>\n",
       "      <td>Kolkata Knight Riders</td>\n",
       "      <td>Shreyas Iyer</td>\n",
       "      <td>Chandrakant Pandit</td>\n",
       "      <td>Eden Gardens, Kolkata</td>\n",
       "      <td>2 (2012, 2014)</td>\n",
       "      <td>Knight Riders Sports Private Ltd</td>\n",
       "      <td>One of three teams to have won more than one I...</td>\n",
       "    </tr>\n",
       "    <tr>\n",
       "      <th>4</th>\n",
       "      <td>Lucknow Super Giants</td>\n",
       "      <td>KL Rahul</td>\n",
       "      <td>Justin Langer</td>\n",
       "      <td>BR SABV Ekana Cricket Stadium, Lucknow</td>\n",
       "      <td>0</td>\n",
       "      <td>RPSG Group</td>\n",
       "      <td>Lucknow Super Giants, one of the two new teams...</td>\n",
       "    </tr>\n",
       "  </tbody>\n",
       "</table>\n",
       "</div>"
      ],
      "text/plain": [
       "          Team Full Name Team Captain (Current) Team Coach (Current)  \\\n",
       "0    Chennai Super Kings               MS Dhoni      Stephen Fleming   \n",
       "1         Delhi Capitals           Rishabh Pant        Ricky Ponting   \n",
       "2         Gujarat Titans           Shubman Gill         Ashish Nehra   \n",
       "3  Kolkata Knight Riders           Shreyas Iyer   Chandrakant Pandit   \n",
       "4   Lucknow Super Giants               KL Rahul        Justin Langer   \n",
       "\n",
       "               Team Home Ground (Current)              Number of IPL Titles  \\\n",
       "0         MA Chidambaram Stadium, Chennai  5 (2010, 2011, 2018, 2021, 2023)   \n",
       "1         Arun Jaitley Stadium, New Delhi                                 0   \n",
       "2        Narendra Modi Stadium, Ahmedabad                          1 (2022)   \n",
       "3                   Eden Gardens, Kolkata                    2 (2012, 2014)   \n",
       "4  BR SABV Ekana Cricket Stadium, Lucknow                                 0   \n",
       "\n",
       "                                         Team Owners  \\\n",
       "0  Chennai Super Kings Cricket Ltd (subsidiary of...   \n",
       "1             GMR Sports Pvt Ltd, JSW Sports Pvt Ltd   \n",
       "2                               CVC Capital Partners   \n",
       "3                   Knight Riders Sports Private Ltd   \n",
       "4                                         RPSG Group   \n",
       "\n",
       "                                          Team About  \n",
       "0  The most consistent IPL franchise ever, Chenna...  \n",
       "1  Delhi Capitals (earlier Daredevils) stumbled i...  \n",
       "2  Gujarat Titans were one of two new teams intro...  \n",
       "3  One of three teams to have won more than one I...  \n",
       "4  Lucknow Super Giants, one of the two new teams...  "
      ]
     },
     "metadata": {},
     "output_type": "display_data"
    }
   ],
   "source": [
    "print(\"\\n📋 Teams Info:\")\n",
    "display(teams_df.head())"
   ]
  },
  {
   "cell_type": "code",
   "execution_count": 5,
   "id": "9f820ec9-d277-47e7-9fa4-702de53d45a1",
   "metadata": {},
   "outputs": [
    {
     "name": "stdout",
     "output_type": "stream",
     "text": [
      "\n",
      "📋 Players Info:\n"
     ]
    },
    {
     "data": {
      "text/html": [
       "<div>\n",
       "<style scoped>\n",
       "    .dataframe tbody tr th:only-of-type {\n",
       "        vertical-align: middle;\n",
       "    }\n",
       "\n",
       "    .dataframe tbody tr th {\n",
       "        vertical-align: top;\n",
       "    }\n",
       "\n",
       "    .dataframe thead th {\n",
       "        text-align: right;\n",
       "    }\n",
       "</style>\n",
       "<table border=\"1\" class=\"dataframe\">\n",
       "  <thead>\n",
       "    <tr style=\"text-align: right;\">\n",
       "      <th></th>\n",
       "      <th>Player Name</th>\n",
       "      <th>Team Name</th>\n",
       "      <th>Player Nationality</th>\n",
       "      <th>Date of Birth</th>\n",
       "      <th>Player Role</th>\n",
       "      <th>IPL Debut</th>\n",
       "      <th>About</th>\n",
       "      <th>Batting Style</th>\n",
       "      <th>Bowling Style</th>\n",
       "      <th>Player Salary</th>\n",
       "    </tr>\n",
       "  </thead>\n",
       "  <tbody>\n",
       "    <tr>\n",
       "      <th>0</th>\n",
       "      <td>MS Dhoni</td>\n",
       "      <td>CSK</td>\n",
       "      <td>Indian</td>\n",
       "      <td>7-Jul-81</td>\n",
       "      <td>Wicketkeeper Batter</td>\n",
       "      <td>2008.0</td>\n",
       "      <td>Mahendra Singh Dhoni, popularly known as MS Dh...</td>\n",
       "      <td>Right hand Bat</td>\n",
       "      <td>Right arm Medium</td>\n",
       "      <td>₹12crore(US$1.5 million)</td>\n",
       "    </tr>\n",
       "    <tr>\n",
       "      <th>1</th>\n",
       "      <td>Devon Conway</td>\n",
       "      <td>CSK</td>\n",
       "      <td>South African</td>\n",
       "      <td>8-Jul-91</td>\n",
       "      <td>Wicketkeeper Batter</td>\n",
       "      <td>2022.0</td>\n",
       "      <td>Sorry, but I couldn't find any information on ...</td>\n",
       "      <td>Left hand Bat</td>\n",
       "      <td>Right arm Medium</td>\n",
       "      <td>₹1crore(US$130,000)</td>\n",
       "    </tr>\n",
       "    <tr>\n",
       "      <th>2</th>\n",
       "      <td>Ruturaj Gaikwad</td>\n",
       "      <td>CSK</td>\n",
       "      <td>Indian</td>\n",
       "      <td>31-Jan-97</td>\n",
       "      <td>Batter</td>\n",
       "      <td>2020.0</td>\n",
       "      <td>Certainly! Ruturaj Gaikwad is an emerging tale...</td>\n",
       "      <td>Right hand Bat</td>\n",
       "      <td>Right arm Offbreak</td>\n",
       "      <td>₹6crore(US$750,000)</td>\n",
       "    </tr>\n",
       "    <tr>\n",
       "      <th>3</th>\n",
       "      <td>Ajinkya Rahane</td>\n",
       "      <td>CSK</td>\n",
       "      <td>Indian</td>\n",
       "      <td>6-Jun-88</td>\n",
       "      <td>Top order Batter</td>\n",
       "      <td>2008.0</td>\n",
       "      <td>Ajinkya Rahane is an Indian professional crick...</td>\n",
       "      <td>Right hand Bat</td>\n",
       "      <td>Right arm Medium</td>\n",
       "      <td>₹50lakh(US$63,000)</td>\n",
       "    </tr>\n",
       "    <tr>\n",
       "      <th>4</th>\n",
       "      <td>Shaik Rasheed</td>\n",
       "      <td>CSK</td>\n",
       "      <td>Indian</td>\n",
       "      <td>24-Sep-04</td>\n",
       "      <td>Batter</td>\n",
       "      <td>NaN</td>\n",
       "      <td>Sure! Shikhar Dhawan is an Indian cricketer wh...</td>\n",
       "      <td>Right hand Bat</td>\n",
       "      <td>Legbreak</td>\n",
       "      <td>₹20lakh(US$25,000)</td>\n",
       "    </tr>\n",
       "  </tbody>\n",
       "</table>\n",
       "</div>"
      ],
      "text/plain": [
       "       Player Name Team Name Player Nationality Date of Birth  \\\n",
       "0         MS Dhoni       CSK             Indian      7-Jul-81   \n",
       "1     Devon Conway       CSK      South African      8-Jul-91   \n",
       "2  Ruturaj Gaikwad       CSK             Indian     31-Jan-97   \n",
       "3   Ajinkya Rahane       CSK             Indian      6-Jun-88   \n",
       "4    Shaik Rasheed       CSK             Indian     24-Sep-04   \n",
       "\n",
       "           Player Role  IPL Debut  \\\n",
       "0  Wicketkeeper Batter     2008.0   \n",
       "1  Wicketkeeper Batter     2022.0   \n",
       "2               Batter     2020.0   \n",
       "3     Top order Batter     2008.0   \n",
       "4               Batter        NaN   \n",
       "\n",
       "                                               About   Batting Style  \\\n",
       "0  Mahendra Singh Dhoni, popularly known as MS Dh...  Right hand Bat   \n",
       "1  Sorry, but I couldn't find any information on ...   Left hand Bat   \n",
       "2  Certainly! Ruturaj Gaikwad is an emerging tale...  Right hand Bat   \n",
       "3  Ajinkya Rahane is an Indian professional crick...  Right hand Bat   \n",
       "4  Sure! Shikhar Dhawan is an Indian cricketer wh...  Right hand Bat   \n",
       "\n",
       "        Bowling Style             Player Salary  \n",
       "0    Right arm Medium  ₹12crore(US$1.5 million)  \n",
       "1    Right arm Medium       ₹1crore(US$130,000)  \n",
       "2  Right arm Offbreak       ₹6crore(US$750,000)  \n",
       "3    Right arm Medium        ₹50lakh(US$63,000)  \n",
       "4            Legbreak        ₹20lakh(US$25,000)  "
      ]
     },
     "metadata": {},
     "output_type": "display_data"
    }
   ],
   "source": [
    "print(\"\\n📋 Players Info:\")\n",
    "display(players_df.head())"
   ]
  },
  {
   "cell_type": "code",
   "execution_count": 6,
   "id": "c45f1c69-7d53-4bf1-99bf-8e806f680f5c",
   "metadata": {},
   "outputs": [
    {
     "name": "stdout",
     "output_type": "stream",
     "text": [
      "\n",
      "📋 Team Performance Summary:\n"
     ]
    },
    {
     "data": {
      "text/html": [
       "<div>\n",
       "<style scoped>\n",
       "    .dataframe tbody tr th:only-of-type {\n",
       "        vertical-align: middle;\n",
       "    }\n",
       "\n",
       "    .dataframe tbody tr th {\n",
       "        vertical-align: top;\n",
       "    }\n",
       "\n",
       "    .dataframe thead th {\n",
       "        text-align: right;\n",
       "    }\n",
       "</style>\n",
       "<table border=\"1\" class=\"dataframe\">\n",
       "  <thead>\n",
       "    <tr style=\"text-align: right;\">\n",
       "      <th></th>\n",
       "      <th>Match_ID</th>\n",
       "      <th>Date</th>\n",
       "      <th>Teams</th>\n",
       "      <th>Venue</th>\n",
       "      <th>Toss_Winner</th>\n",
       "      <th>Toss_Decision</th>\n",
       "      <th>Match_Winner</th>\n",
       "      <th>Win_Type</th>\n",
       "      <th>Win_Margin</th>\n",
       "      <th>First_Innings_Score</th>\n",
       "      <th>Second_Innings_Score</th>\n",
       "      <th>Player_of_Match</th>\n",
       "      <th>Umpire</th>\n",
       "      <th>Umpire1</th>\n",
       "      <th>Umpire2</th>\n",
       "      <th>Powerplay_Scores</th>\n",
       "      <th>Middle_Overs_Scores</th>\n",
       "      <th>Death_Overs_Scores</th>\n",
       "    </tr>\n",
       "  </thead>\n",
       "  <tbody>\n",
       "    <tr>\n",
       "      <th>0</th>\n",
       "      <td>335982</td>\n",
       "      <td>2008-04-18</td>\n",
       "      <td>Royal Challengers Bangalore vs Kolkata Knight ...</td>\n",
       "      <td>M Chinnaswamy Stadium</td>\n",
       "      <td>Royal Challengers Bangalore</td>\n",
       "      <td>field</td>\n",
       "      <td>Kolkata Knight Riders</td>\n",
       "      <td>runs</td>\n",
       "      <td>140.0</td>\n",
       "      <td>222</td>\n",
       "      <td>82.0</td>\n",
       "      <td>BB McCullum</td>\n",
       "      <td>Asad Rauf</td>\n",
       "      <td>RE Koertzen</td>\n",
       "      <td>J Srinath</td>\n",
       "      <td>61</td>\n",
       "      <td>97</td>\n",
       "      <td>64</td>\n",
       "    </tr>\n",
       "    <tr>\n",
       "      <th>1</th>\n",
       "      <td>335983</td>\n",
       "      <td>2008-04-19</td>\n",
       "      <td>Kings XI Punjab vs Chennai Super Kings</td>\n",
       "      <td>Punjab Cricket Association Stadium, Mohali</td>\n",
       "      <td>Chennai Super Kings</td>\n",
       "      <td>bat</td>\n",
       "      <td>Chennai Super Kings</td>\n",
       "      <td>runs</td>\n",
       "      <td>33.0</td>\n",
       "      <td>240</td>\n",
       "      <td>207.0</td>\n",
       "      <td>MEK Hussey</td>\n",
       "      <td>MR Benson</td>\n",
       "      <td>SL Shastri</td>\n",
       "      <td>S Venkataraghavan</td>\n",
       "      <td>53</td>\n",
       "      <td>116</td>\n",
       "      <td>71</td>\n",
       "    </tr>\n",
       "    <tr>\n",
       "      <th>2</th>\n",
       "      <td>335984</td>\n",
       "      <td>2008-04-19</td>\n",
       "      <td>Delhi Daredevils vs Rajasthan Royals</td>\n",
       "      <td>Feroz Shah Kotla</td>\n",
       "      <td>Rajasthan Royals</td>\n",
       "      <td>bat</td>\n",
       "      <td>Delhi Daredevils</td>\n",
       "      <td>wickets</td>\n",
       "      <td>9.0</td>\n",
       "      <td>129</td>\n",
       "      <td>132.0</td>\n",
       "      <td>MF Maharoof</td>\n",
       "      <td>Aleem Dar</td>\n",
       "      <td>GA Pratapkumar</td>\n",
       "      <td>GR Viswanath</td>\n",
       "      <td>40</td>\n",
       "      <td>66</td>\n",
       "      <td>23</td>\n",
       "    </tr>\n",
       "    <tr>\n",
       "      <th>3</th>\n",
       "      <td>335985</td>\n",
       "      <td>2008-04-20</td>\n",
       "      <td>Mumbai Indians vs Royal Challengers Bangalore</td>\n",
       "      <td>Wankhede Stadium</td>\n",
       "      <td>Mumbai Indians</td>\n",
       "      <td>bat</td>\n",
       "      <td>Royal Challengers Bangalore</td>\n",
       "      <td>wickets</td>\n",
       "      <td>5.0</td>\n",
       "      <td>165</td>\n",
       "      <td>166.0</td>\n",
       "      <td>MV Boucher</td>\n",
       "      <td>SJ Davis</td>\n",
       "      <td>DJ Harper</td>\n",
       "      <td>J Srinath</td>\n",
       "      <td>47</td>\n",
       "      <td>71</td>\n",
       "      <td>47</td>\n",
       "    </tr>\n",
       "    <tr>\n",
       "      <th>4</th>\n",
       "      <td>335986</td>\n",
       "      <td>2008-04-20</td>\n",
       "      <td>Kolkata Knight Riders vs Deccan Chargers</td>\n",
       "      <td>Eden Gardens</td>\n",
       "      <td>Deccan Chargers</td>\n",
       "      <td>bat</td>\n",
       "      <td>Kolkata Knight Riders</td>\n",
       "      <td>wickets</td>\n",
       "      <td>5.0</td>\n",
       "      <td>110</td>\n",
       "      <td>112.0</td>\n",
       "      <td>DJ Hussey</td>\n",
       "      <td>BF Bowden</td>\n",
       "      <td>K Hariharan</td>\n",
       "      <td>FM Engineer</td>\n",
       "      <td>39</td>\n",
       "      <td>43</td>\n",
       "      <td>28</td>\n",
       "    </tr>\n",
       "  </tbody>\n",
       "</table>\n",
       "</div>"
      ],
      "text/plain": [
       "   Match_ID        Date                                              Teams  \\\n",
       "0    335982  2008-04-18  Royal Challengers Bangalore vs Kolkata Knight ...   \n",
       "1    335983  2008-04-19             Kings XI Punjab vs Chennai Super Kings   \n",
       "2    335984  2008-04-19               Delhi Daredevils vs Rajasthan Royals   \n",
       "3    335985  2008-04-20      Mumbai Indians vs Royal Challengers Bangalore   \n",
       "4    335986  2008-04-20           Kolkata Knight Riders vs Deccan Chargers   \n",
       "\n",
       "                                        Venue                  Toss_Winner  \\\n",
       "0                       M Chinnaswamy Stadium  Royal Challengers Bangalore   \n",
       "1  Punjab Cricket Association Stadium, Mohali          Chennai Super Kings   \n",
       "2                            Feroz Shah Kotla             Rajasthan Royals   \n",
       "3                            Wankhede Stadium               Mumbai Indians   \n",
       "4                                Eden Gardens              Deccan Chargers   \n",
       "\n",
       "  Toss_Decision                 Match_Winner Win_Type  Win_Margin  \\\n",
       "0         field        Kolkata Knight Riders     runs       140.0   \n",
       "1           bat          Chennai Super Kings     runs        33.0   \n",
       "2           bat             Delhi Daredevils  wickets         9.0   \n",
       "3           bat  Royal Challengers Bangalore  wickets         5.0   \n",
       "4           bat        Kolkata Knight Riders  wickets         5.0   \n",
       "\n",
       "   First_Innings_Score  Second_Innings_Score Player_of_Match     Umpire  \\\n",
       "0                  222                  82.0     BB McCullum  Asad Rauf   \n",
       "1                  240                 207.0      MEK Hussey  MR Benson   \n",
       "2                  129                 132.0     MF Maharoof  Aleem Dar   \n",
       "3                  165                 166.0      MV Boucher   SJ Davis   \n",
       "4                  110                 112.0       DJ Hussey  BF Bowden   \n",
       "\n",
       "          Umpire1            Umpire2  Powerplay_Scores  Middle_Overs_Scores  \\\n",
       "0     RE Koertzen          J Srinath                61                   97   \n",
       "1      SL Shastri  S Venkataraghavan                53                  116   \n",
       "2  GA Pratapkumar       GR Viswanath                40                   66   \n",
       "3       DJ Harper          J Srinath                47                   71   \n",
       "4     K Hariharan        FM Engineer                39                   43   \n",
       "\n",
       "   Death_Overs_Scores  \n",
       "0                  64  \n",
       "1                  71  \n",
       "2                  23  \n",
       "3                  47  \n",
       "4                  28  "
      ]
     },
     "metadata": {},
     "output_type": "display_data"
    }
   ],
   "source": [
    "print(\"\\n📋 Team Performance Summary:\")\n",
    "display(team_perf_df.head())"
   ]
  },
  {
   "cell_type": "markdown",
   "id": "13144201-8e34-4094-90ba-4beff5d9464c",
   "metadata": {},
   "source": [
    "## 📈 **Deep Dive into IPL Trends & Patterns (Extended Analysis)**\n",
    "\n",
    "This section enhances the IPL data exploration by uncovering nuanced trends and match dynamics using Pandas, Seaborn, Matplotlib, and Plotly. Each analysis adds a fresh perspective, drawing out deeper insights and storytelling through data."
   ]
  },
  {
   "cell_type": "markdown",
   "id": "f1e597af-e4a9-4a21-b203-216e43384825",
   "metadata": {},
   "source": [
    "### 🔧 Step 1: Data Cleaning"
   ]
  },
  {
   "cell_type": "markdown",
   "id": "c3b9a4b6-46fe-4b76-858b-30191db11379",
   "metadata": {},
   "source": [
    "#### 📋 Ball-by-Ball Data"
   ]
  },
  {
   "cell_type": "code",
   "execution_count": 7,
   "id": "42db81a8-e8cb-4b92-9840-d18ba479f7ed",
   "metadata": {},
   "outputs": [],
   "source": [
    "ball_df.columns = ball_df.columns.str.strip().str.lower().str.replace(' ', '_')\n",
    "\n",
    "ball_df['date'] = pd.to_datetime(ball_df['date'])\n",
    "\n",
    "ball_df.drop(columns=['type_of_extras', 'wicket_type', 'fielders_involved'], inplace=True)\n",
    "\n",
    "ball_df.drop_duplicates(inplace=True)"
   ]
  },
  {
   "cell_type": "markdown",
   "id": "346fc746-2844-4465-90de-3eeaabc15296",
   "metadata": {},
   "source": [
    "#### 📋 Teams Info"
   ]
  },
  {
   "cell_type": "code",
   "execution_count": 8,
   "id": "5f3d3c42-a7f0-4dec-8c05-d32fa42867d1",
   "metadata": {},
   "outputs": [],
   "source": [
    "teams_df.columns = teams_df.columns.str.strip().str.lower().str.replace(' ', '_')\n",
    "\n",
    "teams_df['team_full_name'] = teams_df['team_full_name'].str.strip()\n",
    "\n",
    "teams_df.drop_duplicates(inplace=True)"
   ]
  },
  {
   "cell_type": "markdown",
   "id": "39088fd1-d0d2-4731-a368-b2ab682014c9",
   "metadata": {},
   "source": [
    "#### 📋 Players Info"
   ]
  },
  {
   "cell_type": "code",
   "execution_count": 9,
   "id": "e9819ac5-1e43-4d0a-b93c-2f3f60b26fc6",
   "metadata": {},
   "outputs": [],
   "source": [
    "players_df.columns = players_df.columns.str.strip().str.lower().str.replace(' ', '_')\n",
    "\n",
    "players_df['date_of_birth'] = pd.to_datetime(players_df['date_of_birth'], errors='coerce')\n",
    "\n",
    "players_df['player_salary_clean'] = (\n",
    "    players_df['player_salary']\n",
    "    .str.extract(r'(\\d+\\.?\\d*)')\n",
    "    .astype(float)\n",
    ")\n",
    "\n",
    "players_df.drop_duplicates(inplace=True)"
   ]
  },
  {
   "cell_type": "markdown",
   "id": "36ded085-9c4d-41ff-954b-4239d18ac34b",
   "metadata": {},
   "source": [
    "#### 📋 Team Performance Summary"
   ]
  },
  {
   "cell_type": "code",
   "execution_count": 10,
   "id": "b996b874-0211-4097-893d-1de87e2fbcd1",
   "metadata": {},
   "outputs": [],
   "source": [
    "team_perf_df.columns = team_perf_df.columns.str.strip().str.lower().str.replace(' ', '_')\n",
    "\n",
    "team_perf_df['date'] = pd.to_datetime(team_perf_df['date'], errors='coerce')\n",
    "\n",
    "replacements = {\n",
    "    \"Arun Jaitley Stadium, Delhi\": \"Arun Jaitley Stadium\",\n",
    "    \"Brabourne Stadium, Mumbai\": \"Brabourne Stadium\",\n",
    "    \"Dr DY Patil Sports Academy, Mumbai\": \"Dr DY Patil Sports Academy\",\n",
    "    \"Dr. Y.S. Rajasekhara Reddy ACA-VDCA Cricket Stadium, Visakhapatnam\": \"Dr. Y.S. Rajasekhara Reddy ACA-VDCA Cricket Stadium\",\n",
    "    \"Eden Gardens\": \"Eden Gardens, Kolkata\",\n",
    "    \"Himachal Pradesh Cricket Association Stadium, Dharamsala\": \"Himachal Pradesh Cricket Association Stadium\",\n",
    "    \"M Chinnaswamy Stadium, Bengaluru\": \"M Chinnaswamy Stadium\",\n",
    "    \"M.Chinnaswamy Stadium\": \"M Chinnaswamy Stadium\",\n",
    "    \"MA Chidambaram Stadium, Chepauk\": \"MA Chidambaram Stadium\",\n",
    "    \"MA Chidambaram Stadium, Chepauk, Chennai\": \"MA Chidambaram Stadium\",\n",
    "    \"Maharashtra Cricket Association Stadium, Pune\": \"Maharashtra Cricket Association Stadium\",\n",
    "    \"Punjab Cricket Association IS Bindra Stadium, Mohali\": \"Punjab Cricket Association IS Bindra Stadium\",\n",
    "    \"Punjab Cricket Association IS Bindra Stadium, Mohali, Chandigarh\": \"Punjab Cricket Association IS Bindra Stadium\",\n",
    "    \"Punjab Cricket Association Stadium, Mohali\": \"Punjab Cricket Association IS Bindra Stadium\",\n",
    "    \"Rajiv Gandhi International Stadium, Uppal\": \"Rajiv Gandhi International Stadium\",\n",
    "    \"Rajiv Gandhi International Stadium, Uppal, Hyderabad\": \"Rajiv Gandhi International Stadium\",\n",
    "    \"Sawai Mansingh Stadium, Jaipur\": \"Sawai Mansingh Stadium\",\n",
    "    \"Wankhede Stadium, Mumbai\": \"Wankhede Stadium\"\n",
    "}\n",
    "\n",
    "team_perf_df['venue'] = team_perf_df['venue'].replace(replacements)\n",
    "\n",
    "team_perf_df.drop_duplicates(inplace=True)"
   ]
  },
  {
   "cell_type": "markdown",
   "id": "54110faa-3526-462a-80a4-21e378acb56a",
   "metadata": {},
   "source": [
    "### 🔗 Step 2: Combining"
   ]
  },
  {
   "cell_type": "markdown",
   "id": "807a0e01-7987-496f-9675-28da53644475",
   "metadata": {},
   "source": [
    "#### 🍦 Combining: Ball-by-Ball Data with Team Performance"
   ]
  },
  {
   "cell_type": "code",
   "execution_count": 11,
   "id": "3b71069d-05fc-4033-b264-25adadd3614c",
   "metadata": {},
   "outputs": [],
   "source": [
    "combined_df = ball_df.merge(team_perf_df, on='match_id', how='left')"
   ]
  },
  {
   "cell_type": "markdown",
   "id": "c14be202-88df-45e8-8369-2ca213bb5f06",
   "metadata": {},
   "source": [
    "#### 🧩 Combining: Player Details into Ball-by-Ball Data"
   ]
  },
  {
   "cell_type": "code",
   "execution_count": 12,
   "id": "85fe4041-a5b2-4533-8701-1a2696b1b84c",
   "metadata": {},
   "outputs": [
    {
     "name": "stdout",
     "output_type": "stream",
     "text": [
      "\n",
      "🍦 Combining: Player Role, Nationality, and Salary\n"
     ]
    }
   ],
   "source": [
    "print(\"\\n🍦 Combining: Player Role, Nationality, and Salary\")\n",
    "\n",
    "combined_df = combined_df.merge(\n",
    "    players_df[['player_name', 'player_role', 'player_nationality', 'player_salary_clean']],\n",
    "    left_on='striker',\n",
    "    right_on='player_name',\n",
    "    how='left'\n",
    ").rename(columns={\n",
    "    'player_role': 'striker_role',\n",
    "    'player_nationality': 'striker_nationality',\n",
    "    'player_salary_clean': 'striker_salary'\n",
    "})\n",
    "\n",
    "combined_df.drop(columns=['player_name'], inplace=True)\n",
    "\n",
    "combined_df = combined_df.merge(\n",
    "    players_df[['player_name', 'player_role']],\n",
    "    left_on='bowler',\n",
    "    right_on='player_name',\n",
    "    how='left'\n",
    ").rename(columns={'player_role': 'bowler_role'})\n",
    "\n",
    "combined_df.drop(columns=['player_name'], inplace=True)"
   ]
  },
  {
   "cell_type": "markdown",
   "id": "1e2f0cc3-0c65-4061-88f7-15caec791b94",
   "metadata": {},
   "source": [
    "#### 🧹 Handling Missing Match Winners"
   ]
  },
  {
   "cell_type": "code",
   "execution_count": 13,
   "id": "3549410a-3846-40ee-91a6-1dd27d605d72",
   "metadata": {},
   "outputs": [],
   "source": [
    "ml_df = combined_df.dropna(subset=['match_winner'])"
   ]
  },
  {
   "cell_type": "markdown",
   "id": "d27f5988-a06f-459d-9aa2-daa43501d8ff",
   "metadata": {},
   "source": [
    "### ⏳ Step 3: Analyze Run Trends Over the Years"
   ]
  },
  {
   "cell_type": "code",
   "execution_count": 14,
   "id": "20c73bb7-970b-4e5f-9589-cfbb2dfbf655",
   "metadata": {},
   "outputs": [
    {
     "data": {
      "image/png": "[encoded data removed]",
      "text/plain": [
       "<Figure size 1000x600 with 1 Axes>"
      ]
     },
     "metadata": {},
     "output_type": "display_data"
    }
   ],
   "source": [
    "season_runs = combined_df.groupby('season')['runs_scored'].sum().reset_index()\n",
    "\n",
    "plt.figure(figsize=(10, 6))\n",
    "sns.barplot(data=season_runs, x='season', y='runs_scored', palette='Blues_d')\n",
    "plt.title(\"Total Runs per Season (2008–2024)\")\n",
    "plt.xticks(rotation=45)\n",
    "plt.tight_layout()\n",
    "plt.show()"
   ]
  },
  {
   "cell_type": "markdown",
   "id": "8f5ac46c-4110-4ead-ab7b-dbe947e14577",
   "metadata": {},
   "source": [
    "### 🏏 Step 4: Compare Batting Styles (Strike Rate vs Boundary %)"
   ]
  },
  {
   "cell_type": "code",
   "execution_count": 15,
   "id": "02abc5a9-bc22-42cf-a03b-88b7224ef2a3",
   "metadata": {},
   "outputs": [
    {
     "data": {
      "image/png": "[encoded data removed]",
      "text/plain": [
       "<Figure size 1000x600 with 1 Axes>"
      ]
     },
     "metadata": {},
     "output_type": "display_data"
    }
   ],
   "source": [
    "valid_balls = combined_df[combined_df['striker'].notnull()].copy()\n",
    "valid_balls['is_boundary'] = valid_balls['runs_scored'].apply(lambda x: 1 if x in [4, 6] else 0)\n",
    "\n",
    "batting_stats = valid_balls.groupby('striker').agg({\n",
    "    'runs_scored': 'sum',\n",
    "    'ball_no': 'count',\n",
    "    'is_boundary': 'sum'\n",
    "}).reset_index()\n",
    "\n",
    "batting_stats.rename(columns={'ball_no': 'balls_faced'}, inplace=True)\n",
    "batting_stats['strike_rate'] = (batting_stats['runs_scored'] / batting_stats['balls_faced']) * 100\n",
    "batting_stats['boundary_pct'] = (batting_stats['is_boundary'] / batting_stats['balls_faced']) * 100\n",
    "\n",
    "batting_stats = batting_stats[batting_stats['balls_faced'] >= 100]\n",
    "\n",
    "plt.figure(figsize=(10, 6))\n",
    "sns.scatterplot(data=batting_stats, x='strike_rate', y='boundary_pct')\n",
    "plt.title('Batting Style: Strike Rate vs Boundary %')\n",
    "plt.xlabel('Strike Rate')\n",
    "plt.ylabel('Boundary %')\n",
    "plt.grid(True)\n",
    "plt.tight_layout()\n",
    "plt.show()"
   ]
  },
  {
   "cell_type": "markdown",
   "id": "76b55413-026f-41b7-8939-6d7f3219912e",
   "metadata": {},
   "source": [
    "### 🎯 Step 5: Study Bowling Consistency (Dot %, Economy)"
   ]
  },
  {
   "cell_type": "code",
   "execution_count": 16,
   "id": "4f8990bd-deb5-45b2-86d1-a3765b88aebd",
   "metadata": {},
   "outputs": [
    {
     "data": {
      "image/png": "[encoded data removed]",
      "text/plain": [
       "<Figure size 1000x600 with 1 Axes>"
      ]
     },
     "metadata": {},
     "output_type": "display_data"
    }
   ],
   "source": [
    "bowler_df = combined_df.copy()\n",
    "bowler_df['is_dot'] = (bowler_df['runs_scored'] == 0).astype(int)\n",
    "\n",
    "bowler_stats = bowler_df.groupby('bowler').agg({\n",
    "    'runs_scored': 'sum',\n",
    "    'is_dot': 'sum',\n",
    "    'ball_no': 'count'\n",
    "}).reset_index()\n",
    "\n",
    "bowler_stats.rename(columns={'ball_no': 'balls_bowled'}, inplace=True)\n",
    "bowler_stats['dot_pct'] = (bowler_stats['is_dot'] / bowler_stats['balls_bowled']) * 100\n",
    "bowler_stats['economy'] = bowler_stats['runs_scored'] / (bowler_stats['balls_bowled'] / 6)\n",
    "\n",
    "top_bowlers = bowler_stats[bowler_stats['balls_bowled'] > 300]\n",
    "\n",
    "plt.figure(figsize=(10, 6))\n",
    "sns.scatterplot(data=top_bowlers, x='economy', y='dot_pct', alpha=0.7)\n",
    "plt.title('Bowling Consistency: Economy Rate vs Dot Ball %')\n",
    "plt.xlabel('Economy Rate')\n",
    "plt.ylabel('Dot Ball %')\n",
    "plt.grid(True)\n",
    "plt.tight_layout()\n",
    "plt.show()"
   ]
  },
  {
   "cell_type": "markdown",
   "id": "62dea6dd-aa0b-4e41-b994-80b1330b95cb",
   "metadata": {},
   "source": [
    "### ⏱️ Step 6: Overs Performance (Powerplay, Middle, Death)"
   ]
  },
  {
   "cell_type": "code",
   "execution_count": 17,
   "id": "310fc6b3-cab6-4152-b22f-8fba4a5a1364",
   "metadata": {},
   "outputs": [
    {
     "data": {
      "image/png": "[encoded data removed]",
      "text/plain": [
       "<Figure size 800x500 with 1 Axes>"
      ]
     },
     "metadata": {},
     "output_type": "display_data"
    }
   ],
   "source": [
    "combined_df['over'] = (combined_df['ball_no'].astype(float) // 6 + 1).astype(int)\n",
    "\n",
    "combined_df['over_type'] = combined_df['over'].apply(\n",
    "    lambda x: 'Powerplay' if x <= 6 else ('Death' if x > 15 else 'Middle')\n",
    ")\n",
    "\n",
    "combined_df['over_type'] = pd.Categorical(\n",
    "    combined_df['over_type'],\n",
    "    categories=['Powerplay', 'Middle', 'Death'],\n",
    "    ordered=True\n",
    ")\n",
    "\n",
    "over_stats = combined_df.groupby('over_type')['runs_scored'].mean().reset_index()\n",
    "over_stats['avg_runs_per_over'] = over_stats['runs_scored'] * 6\n",
    "\n",
    "plt.figure(figsize=(8, 5))\n",
    "sns.barplot(data=over_stats, x='over_type', y='avg_runs_per_over')\n",
    "plt.title('Average Runs per Over by Match Phase')\n",
    "plt.xlabel('Over Phase')\n",
    "plt.ylabel('Avg Runs per Over')\n",
    "plt.tight_layout()\n",
    "plt.show()"
   ]
  },
  {
   "cell_type": "markdown",
   "id": "fdbc4ca0-02db-4c79-9d95-db23144241f2",
   "metadata": {},
   "source": [
    "#### 🎯 Bowling Consistency: Top 10 Economical Bowlers"
   ]
  },
  {
   "cell_type": "code",
   "execution_count": 18,
   "id": "8649e1a5-01d8-465b-8843-e449f065f9f9",
   "metadata": {},
   "outputs": [
    {
     "data": {
      "image/png": "[encoded data removed]",
      "text/plain": [
       "<Figure size 1000x600 with 1 Axes>"
      ]
     },
     "metadata": {},
     "output_type": "display_data"
    }
   ],
   "source": [
    "combined_df['is_dot'] = combined_df['runs_scored'].apply(lambda x: 1 if x == 0 else 0)\n",
    "\n",
    "bowling_stats = combined_df.groupby('bowler').agg({\n",
    "    'runs_scored': 'sum',\n",
    "    'ball_no': 'count',\n",
    "    'is_dot': 'sum'\n",
    "}).reset_index()\n",
    "\n",
    "bowling_stats.rename(columns={'ball_no': 'balls_bowled'}, inplace=True)\n",
    "\n",
    "bowling_stats['economy'] = bowling_stats['runs_scored'] / (bowling_stats['balls_bowled'] / 6)\n",
    "bowling_stats['dot_ball_pct'] = (bowling_stats['is_dot'] / bowling_stats['balls_bowled']) * 100\n",
    "\n",
    "bowling_stats = bowling_stats[bowling_stats['balls_bowled'] >= 100]\n",
    "bowling_stats_sorted = bowling_stats.sort_values(by='economy')\n",
    "\n",
    "plt.figure(figsize=(10, 6))\n",
    "sns.barplot(data=bowling_stats_sorted.head(10), x='economy', y='bowler')\n",
    "plt.title(\"Top 10 Economical Bowlers\")\n",
    "plt.xlabel(\"Economy Rate\")\n",
    "plt.ylabel(\"Bowler\")\n",
    "plt.tight_layout()\n",
    "plt.show()"
   ]
  },
  {
   "cell_type": "markdown",
   "id": "f9b114c3-94f8-4b5e-9910-85b6d7e4ef44",
   "metadata": {},
   "source": [
    "### 🏟️ Step 7: Venue-Wise Average Runs: Batting 1st vs 2nd (Top 10 Venues)"
   ]
  },
  {
   "cell_type": "code",
   "execution_count": 19,
   "id": "9c8fe31e-8c0e-4453-8660-816208b426a8",
   "metadata": {},
   "outputs": [
    {
     "data": {
      "application/vnd.plotly.v1+json": {
       "config": {
        "plotlyServerURL": "https://plot.ly"
       },
       "data": [
        {
         "alignmentgroup": "True",
         "hovertemplate": "batting_order=Batting 1st<br>venue=%{x}<br>Average Score=%{y}<extra></extra>",
         "legendgroup": "Batting 1st",
         "marker": {
          "color": "#636efa",
          "pattern": {
           "shape": ""
          }
         },
         "name": "Batting 1st",
         "offsetgroup": "Batting 1st",
         "orientation": "v",
         "showlegend": true,
         "textposition": "auto",
         "type": "bar",
         "x": [
          "Arun Jaitley Stadium",
          "Barabati Stadium",
          "Barsapara Cricket Stadium, Guwahati",
          "Brabourne Stadium",
          "Green Park",
          "Himachal Pradesh Cricket Association Stadium",
          "Maharaja Yadavindra Singh International Cricket Stadium, Mullanpur",
          "Narendra Modi Stadium, Ahmedabad",
          "Punjab Cricket Association IS Bindra Stadium",
          "Wankhede Stadium"
         ],
         "xaxis": "x",
         "y": {
          "bdata": "SZIkSZLEZUCSJEmSJElkQAAAAAAAwGdA5DiO4zgOZUAAAAAAAChjQHTRRRddVGVAzczMzMzsY0Dbtm3bts1kQFBxyRCsA2RAhixkIQsZZEA=",
          "dtype": "f8"
         },
         "yaxis": "y"
        },
        {
         "alignmentgroup": "True",
         "hovertemplate": "batting_order=Batting 2nd<br>venue=%{x}<br>Average Score=%{y}<extra></extra>",
         "legendgroup": "Batting 2nd",
         "marker": {
          "color": "#EF553B",
          "pattern": {
           "shape": ""
          }
         },
         "name": "Batting 2nd",
         "offsetgroup": "Batting 2nd",
         "orientation": "v",
         "showlegend": true,
         "textposition": "auto",
         "type": "bar",
         "x": [
          "Arun Jaitley Stadium",
          "Barabati Stadium",
          "Barsapara Cricket Stadium, Guwahati",
          "Brabourne Stadium",
          "Green Park",
          "Himachal Pradesh Cricket Association Stadium",
          "Maharaja Yadavindra Singh International Cricket Stadium, Mullanpur",
          "Narendra Modi Stadium, Ahmedabad",
          "Punjab Cricket Association IS Bindra Stadium",
          "Wankhede Stadium"
         ],
         "xaxis": "x",
         "y": {
          "bdata": "mpmZmZm5YkCSJEmSJOliQAAAAAAAoGNAAAAAAACAY0AAAAAAAHhjQC+66KKLLmJAZmZmZmbmY0BJkiRJkmRjQNLmfYpLxmJAAAAAAACgYkA=",
          "dtype": "f8"
         },
         "yaxis": "y"
        }
       ],
       "layout": {
        "barmode": "group",
        "height": 500,
        "legend": {
         "title": {
          "text": "batting_order"
         },
         "tracegroupgap": 0
        },
        "margin": {
         "b": 150
        },
        "template": {
         "data": {
          "bar": [
           {
            "error_x": {
             "color": "#2a3f5f"
            },
            "error_y": {
             "color": "#2a3f5f"
            },
            "marker": {
             "line": {
              "color": "#E5ECF6",
              "width": 0.5
             },
             "pattern": {
              "fillmode": "overlay",
              "size": 10,
              "solidity": 0.2
             }
            },
            "type": "bar"
           }
          ],
          "barpolar": [
           {
            "marker": {
             "line": {
              "color": "#E5ECF6",
              "width": 0.5
             },
             "pattern": {
              "fillmode": "overlay",
              "size": 10,
              "solidity": 0.2
             }
            },
            "type": "barpolar"
           }
          ],
          "carpet": [
           {
            "aaxis": {
             "endlinecolor": "#2a3f5f",
             "gridcolor": "white",
             "linecolor": "white",
             "minorgridcolor": "white",
             "startlinecolor": "#2a3f5f"
            },
            "baxis": {
             "endlinecolor": "#2a3f5f",
             "gridcolor": "white",
             "linecolor": "white",
             "minorgridcolor": "white",
             "startlinecolor": "#2a3f5f"
            },
            "type": "carpet"
           }
          ],
          "choropleth": [
           {
            "colorbar": {
             "outlinewidth": 0,
             "ticks": ""
            },
            "type": "choropleth"
           }
          ],
          "contour": [
           {
            "colorbar": {
             "outlinewidth": 0,
             "ticks": ""
            },
            "colorscale": [
             [
              0,
              "#0d0887"
             ],
             [
              0.1111111111111111,
              "#46039f"
             ],
             [
              0.2222222222222222,
              "#7201a8"
             ],
             [
              0.3333333333333333,
              "#9c179e"
             ],
             [
              0.4444444444444444,
              "#bd3786"
             ],
             [
              0.5555555555555556,
              "#d8576b"
             ],
             [
              0.6666666666666666,
              "#ed7953"
             ],
             [
              0.7777777777777778,
              "#fb9f3a"
             ],
             [
              0.8888888888888888,
              "#fdca26"
             ],
             [
              1,
              "#f0f921"
             ]
            ],
            "type": "contour"
           }
          ],
          "contourcarpet": [
           {
            "colorbar": {
             "outlinewidth": 0,
             "ticks": ""
            },
            "type": "contourcarpet"
           }
          ],
          "heatmap": [
           {
            "colorbar": {
             "outlinewidth": 0,
             "ticks": ""
            },
            "colorscale": [
             [
              0,
              "#0d0887"
             ],
             [
              0.1111111111111111,
              "#46039f"
             ],
             [
              0.2222222222222222,
              "#7201a8"
             ],
             [
              0.3333333333333333,
              "#9c179e"
             ],
             [
              0.4444444444444444,
              "#bd3786"
             ],
             [
              0.5555555555555556,
              "#d8576b"
             ],
             [
              0.6666666666666666,
              "#ed7953"
             ],
             [
              0.7777777777777778,
              "#fb9f3a"
             ],
             [
              0.8888888888888888,
              "#fdca26"
             ],
             [
              1,
              "#f0f921"
             ]
            ],
            "type": "heatmap"
           }
          ],
          "histogram": [
           {
            "marker": {
             "pattern": {
              "fillmode": "overlay",
              "size": 10,
              "solidity": 0.2
             }
            },
            "type": "histogram"
           }
          ],
          "histogram2d": [
           {
            "colorbar": {
             "outlinewidth": 0,
             "ticks": ""
            },
            "colorscale": [
             [
              0,
              "#0d0887"
             ],
             [
              0.1111111111111111,
              "#46039f"
             ],
             [
              0.2222222222222222,
              "#7201a8"
             ],
             [
              0.3333333333333333,
              "#9c179e"
             ],
             [
              0.4444444444444444,
              "#bd3786"
             ],
             [
              0.5555555555555556,
              "#d8576b"
             ],
             [
              0.6666666666666666,
              "#ed7953"
             ],
             [
              0.7777777777777778,
              "#fb9f3a"
             ],
             [
              0.8888888888888888,
              "#fdca26"
             ],
             [
              1,
              "#f0f921"
             ]
            ],
            "type": "histogram2d"
           }
          ],
          "histogram2dcontour": [
           {
            "colorbar": {
             "outlinewidth": 0,
             "ticks": ""
            },
            "colorscale": [
             [
              0,
              "#0d0887"
             ],
             [
              0.1111111111111111,
              "#46039f"
             ],
             [
              0.2222222222222222,
              "#7201a8"
             ],
             [
              0.3333333333333333,
              "#9c179e"
             ],
             [
              0.4444444444444444,
              "#bd3786"
             ],
             [
              0.5555555555555556,
              "#d8576b"
             ],
             [
              0.6666666666666666,
              "#ed7953"
             ],
             [
              0.7777777777777778,
              "#fb9f3a"
             ],
             [
              0.8888888888888888,
              "#fdca26"
             ],
             [
              1,
              "#f0f921"
             ]
            ],
            "type": "histogram2dcontour"
           }
          ],
          "mesh3d": [
           {
            "colorbar": {
             "outlinewidth": 0,
             "ticks": ""
            },
            "type": "mesh3d"
           }
          ],
          "parcoords": [
           {
            "line": {
             "colorbar": {
              "outlinewidth": 0,
              "ticks": ""
             }
            },
            "type": "parcoords"
           }
          ],
          "pie": [
           {
            "automargin": true,
            "type": "pie"
           }
          ],
          "scatter": [
           {
            "fillpattern": {
             "fillmode": "overlay",
             "size": 10,
             "solidity": 0.2
            },
            "type": "scatter"
           }
          ],
          "scatter3d": [
           {
            "line": {
             "colorbar": {
              "outlinewidth": 0,
              "ticks": ""
             }
            },
            "marker": {
             "colorbar": {
              "outlinewidth": 0,
              "ticks": ""
             }
            },
            "type": "scatter3d"
           }
          ],
          "scattercarpet": [
           {
            "marker": {
             "colorbar": {
              "outlinewidth": 0,
              "ticks": ""
             }
            },
            "type": "scattercarpet"
           }
          ],
          "scattergeo": [
           {
            "marker": {
             "colorbar": {
              "outlinewidth": 0,
              "ticks": ""
             }
            },
            "type": "scattergeo"
           }
          ],
          "scattergl": [
           {
            "marker": {
             "colorbar": {
              "outlinewidth": 0,
              "ticks": ""
             }
            },
            "type": "scattergl"
           }
          ],
          "scattermap": [
           {
            "marker": {
             "colorbar": {
              "outlinewidth": 0,
              "ticks": ""
             }
            },
            "type": "scattermap"
           }
          ],
          "scattermapbox": [
           {
            "marker": {
             "colorbar": {
              "outlinewidth": 0,
              "ticks": ""
             }
            },
            "type": "scattermapbox"
           }
          ],
          "scatterpolar": [
           {
            "marker": {
             "colorbar": {
              "outlinewidth": 0,
              "ticks": ""
             }
            },
            "type": "scatterpolar"
           }
          ],
          "scatterpolargl": [
           {
            "marker": {
             "colorbar": {
              "outlinewidth": 0,
              "ticks": ""
             }
            },
            "type": "scatterpolargl"
           }
          ],
          "scatterternary": [
           {
            "marker": {
             "colorbar": {
              "outlinewidth": 0,
              "ticks": ""
             }
            },
            "type": "scatterternary"
           }
          ],
          "surface": [
           {
            "colorbar": {
             "outlinewidth": 0,
             "ticks": ""
            },
            "colorscale": [
             [
              0,
              "#0d0887"
             ],
             [
              0.1111111111111111,
              "#46039f"
             ],
             [
              0.2222222222222222,
              "#7201a8"
             ],
             [
              0.3333333333333333,
              "#9c179e"
             ],
             [
              0.4444444444444444,
              "#bd3786"
             ],
             [
              0.5555555555555556,
              "#d8576b"
             ],
             [
              0.6666666666666666,
              "#ed7953"
             ],
             [
              0.7777777777777778,
              "#fb9f3a"
             ],
             [
              0.8888888888888888,
              "#fdca26"
             ],
             [
              1,
              "#f0f921"
             ]
            ],
            "type": "surface"
           }
          ],
          "table": [
           {
            "cells": {
             "fill": {
              "color": "#EBF0F8"
             },
             "line": {
              "color": "white"
             }
            },
            "header": {
             "fill": {
              "color": "#C8D4E3"
             },
             "line": {
              "color": "white"
             }
            },
            "type": "table"
           }
          ]
         },
         "layout": {
          "annotationdefaults": {
           "arrowcolor": "#2a3f5f",
           "arrowhead": 0,
           "arrowwidth": 1
          },
          "autotypenumbers": "strict",
          "coloraxis": {
           "colorbar": {
            "outlinewidth": 0,
            "ticks": ""
           }
          },
          "colorscale": {
           "diverging": [
            [
             0,
             "#8e0152"
            ],
            [
             0.1,
             "#c51b7d"
            ],
            [
             0.2,
             "#de77ae"
            ],
            [
             0.3,
             "#f1b6da"
            ],
            [
             0.4,
             "#fde0ef"
            ],
            [
             0.5,
             "#f7f7f7"
            ],
            [
             0.6,
             "#e6f5d0"
            ],
            [
             0.7,
             "#b8e186"
            ],
            [
             0.8,
             "#7fbc41"
            ],
            [
             0.9,
             "#4d9221"
            ],
            [
             1,
             "#276419"
            ]
           ],
           "sequential": [
            [
             0,
             "#0d0887"
            ],
            [
             0.1111111111111111,
             "#46039f"
            ],
            [
             0.2222222222222222,
             "#7201a8"
            ],
            [
             0.3333333333333333,
             "#9c179e"
            ],
            [
             0.4444444444444444,
             "#bd3786"
            ],
            [
             0.5555555555555556,
             "#d8576b"
            ],
            [
             0.6666666666666666,
             "#ed7953"
            ],
            [
             0.7777777777777778,
             "#fb9f3a"
            ],
            [
             0.8888888888888888,
             "#fdca26"
            ],
            [
             1,
             "#f0f921"
            ]
           ],
           "sequentialminus": [
            [
             0,
             "#0d0887"
            ],
            [
             0.1111111111111111,
             "#46039f"
            ],
            [
             0.2222222222222222,
             "#7201a8"
            ],
            [
             0.3333333333333333,
             "#9c179e"
            ],
            [
             0.4444444444444444,
             "#bd3786"
            ],
            [
             0.5555555555555556,
             "#d8576b"
            ],
            [
             0.6666666666666666,
             "#ed7953"
            ],
            [
             0.7777777777777778,
             "#fb9f3a"
            ],
            [
             0.8888888888888888,
             "#fdca26"
            ],
            [
             1,
             "#f0f921"
            ]
           ]
          },
          "colorway": [
           "#636efa",
           "#EF553B",
           "#00cc96",
           "#ab63fa",
           "#FFA15A",
           "#19d3f3",
           "#FF6692",
           "#B6E880",
           "#FF97FF",
           "#FECB52"
          ],
          "font": {
           "color": "#2a3f5f"
          },
          "geo": {
           "bgcolor": "white",
           "lakecolor": "white",
           "landcolor": "#E5ECF6",
           "showlakes": true,
           "showland": true,
           "subunitcolor": "white"
          },
          "hoverlabel": {
           "align": "left"
          },
          "hovermode": "closest",
          "mapbox": {
           "style": "light"
          },
          "paper_bgcolor": "white",
          "plot_bgcolor": "#E5ECF6",
          "polar": {
           "angularaxis": {
            "gridcolor": "white",
            "linecolor": "white",
            "ticks": ""
           },
           "bgcolor": "#E5ECF6",
           "radialaxis": {
            "gridcolor": "white",
            "linecolor": "white",
            "ticks": ""
           }
          },
          "scene": {
           "xaxis": {
            "backgroundcolor": "#E5ECF6",
            "gridcolor": "white",
            "gridwidth": 2,
            "linecolor": "white",
            "showbackground": true,
            "ticks": "",
            "zerolinecolor": "white"
           },
           "yaxis": {
            "backgroundcolor": "#E5ECF6",
            "gridcolor": "white",
            "gridwidth": 2,
            "linecolor": "white",
            "showbackground": true,
            "ticks": "",
            "zerolinecolor": "white"
           },
           "zaxis": {
            "backgroundcolor": "#E5ECF6",
            "gridcolor": "white",
            "gridwidth": 2,
            "linecolor": "white",
            "showbackground": true,
            "ticks": "",
            "zerolinecolor": "white"
           }
          },
          "shapedefaults": {
           "line": {
            "color": "#2a3f5f"
           }
          },
          "ternary": {
           "aaxis": {
            "gridcolor": "white",
            "linecolor": "white",
            "ticks": ""
           },
           "baxis": {
            "gridcolor": "white",
            "linecolor": "white",
            "ticks": ""
           },
           "bgcolor": "#E5ECF6",
           "caxis": {
            "gridcolor": "white",
            "linecolor": "white",
            "ticks": ""
           }
          },
          "title": {
           "x": 0.05
          },
          "xaxis": {
           "automargin": true,
           "gridcolor": "white",
           "linecolor": "white",
           "ticks": "",
           "title": {
            "standoff": 15
           },
           "zerolinecolor": "white",
           "zerolinewidth": 2
          },
          "yaxis": {
           "automargin": true,
           "gridcolor": "white",
           "linecolor": "white",
           "ticks": "",
           "title": {
            "standoff": 15
           },
           "zerolinecolor": "white",
           "zerolinewidth": 2
          }
         }
        },
        "title": {
         "text": "Venue-Wise Avg Runs by Batting Order (Top 10 Venues)"
        },
        "xaxis": {
         "anchor": "y",
         "domain": [
          0,
          1
         ],
         "tickangle": -45,
         "tickfont": {
          "size": 10
         },
         "title": {
          "text": "venue"
         }
        },
        "yaxis": {
         "anchor": "x",
         "domain": [
          0,
          1
         ],
         "title": {
          "text": "Average Score"
         }
        }
       }
      },
      "image/png": "[encoded data removed]"
     },
     "metadata": {},
     "output_type": "display_data"
    }
   ],
   "source": [
    "match_innings = combined_df.groupby(['match_id', 'innings_no'])['runs_scored'].sum().reset_index()\n",
    "\n",
    "venue_info = combined_df[['match_id', 'venue']].drop_duplicates()\n",
    "match_innings = pd.merge(match_innings, venue_info, on='match_id', how='left')\n",
    "\n",
    "match_innings['batting_order'] = match_innings['innings_no'].apply(\n",
    "    lambda x: 'Batting 1st' if x == 1 else 'Batting 2nd'\n",
    ")\n",
    "\n",
    "venue_comparison = match_innings.groupby(['venue', 'batting_order'])['runs_scored'].mean().reset_index()\n",
    "\n",
    "venue_avg = match_innings.groupby('venue')['runs_scored'].mean().reset_index()\n",
    "top_venues = venue_avg.sort_values(by='runs_scored', ascending=False).head(10)['venue']\n",
    "\n",
    "venue_comparison_top = venue_comparison[venue_comparison['venue'].isin(top_venues)]\n",
    "\n",
    "fig = px.bar(\n",
    "    venue_comparison_top,\n",
    "    x='venue',\n",
    "    y='runs_scored',\n",
    "    color='batting_order',\n",
    "    barmode='group',\n",
    "    title='Venue-Wise Avg Runs by Batting Order (Top 10 Venues)',\n",
    "    labels={'runs_scored': 'Average Score'}\n",
    ")\n",
    "\n",
    "fig.update_layout(\n",
    "    xaxis_tickangle=-45,\n",
    "    xaxis_tickfont=dict(size=10),\n",
    "    margin=dict(b=150),\n",
    "    height=500\n",
    ")\n",
    "\n",
    "fig.show()"
   ]
  },
  {
   "cell_type": "markdown",
   "id": "c9e174a6-1e5a-4ed2-bb1e-a7a291951ed7",
   "metadata": {},
   "source": [
    "### 🤖 Step 7: Match-Winner Prediction using Logistic Regression"
   ]
  },
  {
   "cell_type": "markdown",
   "id": "9ec8a4fa-6c3a-403c-a569-677812e87605",
   "metadata": {},
   "source": [
    "#### 🧹 Data Preparation & Encoding"
   ]
  },
  {
   "cell_type": "code",
   "execution_count": 20,
   "id": "1529974a-f9f7-41f5-a66f-0e47bf19aef8",
   "metadata": {},
   "outputs": [],
   "source": [
    "ml_df = combined_df.dropna(subset=['match_winner'])\n",
    "\n",
    "ml_df['target'] = (ml_df['toss_winner'] == ml_df['match_winner']).astype(int)\n",
    "\n",
    "ml_features = ml_df[['toss_winner', 'toss_decision', 'venue']].copy()\n",
    "\n",
    "from sklearn.preprocessing import LabelEncoder\n",
    "le = LabelEncoder()\n",
    "for col in ml_features.columns:\n",
    "    ml_features[col] = le.fit_transform(ml_features[col])\n",
    "\n",
    "X = ml_features\n",
    "y = ml_df['target']"
   ]
  },
  {
   "cell_type": "markdown",
   "id": "70b70e80-01c1-4fc0-b947-2ddedca9e0c1",
   "metadata": {},
   "source": [
    "#### 🧪 Model Training and Evaluation"
   ]
  },
  {
   "cell_type": "code",
   "execution_count": 21,
   "id": "c25ce9f1-65de-43b1-bc2c-d39c73df277e",
   "metadata": {},
   "outputs": [
    {
     "name": "stdout",
     "output_type": "stream",
     "text": [
      "Accuracy Score: 0.5520996246481076\n",
      "\n",
      "Classification Report:\n",
      "               precision    recall  f1-score   support\n",
      "\n",
      "           0       0.55      0.50      0.53     25350\n",
      "           1       0.55      0.60      0.57     25802\n",
      "\n",
      "    accuracy                           0.55     51152\n",
      "   macro avg       0.55      0.55      0.55     51152\n",
      "weighted avg       0.55      0.55      0.55     51152\n",
      "\n"
     ]
    }
   ],
   "source": [
    "from sklearn.linear_model import LogisticRegression\n",
    "from sklearn.model_selection import train_test_split\n",
    "from sklearn.metrics import accuracy_score, classification_report\n",
    "\n",
    "X_train, X_test, y_train, y_test = train_test_split(X, y, test_size=0.2, random_state=42)\n",
    "\n",
    "model = LogisticRegression(max_iter=1000)\n",
    "model.fit(X_train, y_train)\n",
    "\n",
    "y_pred = model.predict(X_test)\n",
    "\n",
    "print(\"Accuracy Score:\", accuracy_score(y_test, y_pred))\n",
    "print(\"\\nClassification Report:\\n\", classification_report(y_test, y_pred))"
   ]
  },
  {
   "cell_type": "markdown",
   "id": "3b759bbf-6478-46f2-80c4-5c1be4f42523",
   "metadata": {},
   "source": [
    "#### 📊 Confusion Matrix – Classification Evaluation"
   ]
  },
  {
   "cell_type": "code",
   "execution_count": 22,
   "id": "d6cc19ad-8e0f-46ea-90e5-06914d33d000",
   "metadata": {},
   "outputs": [
    {
     "data": {
      "text/plain": [
       "<Figure size 800x600 with 0 Axes>"
      ]
     },
     "metadata": {},
     "output_type": "display_data"
    },
    {
     "data": {
      "image/png": "[encoded data removed]",
      "text/plain": [
       "<Figure size 640x480 with 2 Axes>"
      ]
     },
     "metadata": {},
     "output_type": "display_data"
    }
   ],
   "source": [
    "from sklearn.metrics import confusion_matrix, ConfusionMatrixDisplay\n",
    "\n",
    "cm = confusion_matrix(y_test, y_pred, labels=model.classes_)\n",
    "disp = ConfusionMatrixDisplay(confusion_matrix=cm, display_labels=model.classes_)\n",
    "\n",
    "plt.figure(figsize=(8, 6))\n",
    "disp.plot(cmap='Blues')\n",
    "plt.title(\"Confusion Matrix - Match Winner Prediction\")\n",
    "plt.grid(False)\n",
    "plt.show()"
   ]
  },
  {
   "cell_type": "markdown",
   "id": "5d2e52ac-60a2-4cc2-bd35-ec6297c74f53",
   "metadata": {},
   "source": [
    "#### 🪄 Feature Influence – Model Interpretation"
   ]
  },
  {
   "cell_type": "code",
   "execution_count": 23,
   "id": "0d87ef9a-51a1-4622-a4d0-cd396f13603e",
   "metadata": {},
   "outputs": [
    {
     "data": {
      "image/png": "[encoded data removed]",
      "text/plain": [
       "<Figure size 800x500 with 1 Axes>"
      ]
     },
     "metadata": {},
     "output_type": "display_data"
    }
   ],
   "source": [
    "coef_df = pd.DataFrame({\n",
    "    'Feature': X.columns,\n",
    "    'Coefficient': model.coef_[0]\n",
    "}).sort_values(by='Coefficient', ascending=True)\n",
    "\n",
    "plt.figure(figsize=(8, 5))\n",
    "sns.barplot(x='Coefficient', y='Feature', data=coef_df)\n",
    "plt.title('Feature Influence on Toss-Winner = Match-Winner (Logistic Regression)')\n",
    "plt.xlabel('Coefficient Value')\n",
    "plt.ylabel('Feature')\n",
    "plt.tight_layout()\n",
    "plt.show()"
   ]
  },
  {
   "cell_type": "markdown",
   "id": "a48172a4-5db7-424e-94fa-a9091c9b1c50",
   "metadata": {},
   "source": [
    "#### 📉 ROC Curve Analysis"
   ]
  },
  {
   "cell_type": "code",
   "execution_count": 24,
   "id": "10daa033-2f80-4040-a49a-519cabe99c68",
   "metadata": {},
   "outputs": [
    {
     "data": {
      "image/png": "[encoded data removed]",
      "text/plain": [
       "<Figure size 800x600 with 1 Axes>"
      ]
     },
     "metadata": {},
     "output_type": "display_data"
    }
   ],
   "source": [
    "from sklearn.metrics import roc_curve, roc_auc_score\n",
    "import matplotlib.pyplot as plt\n",
    "\n",
    "y_probs = model.predict_proba(X_test)[:, 1]\n",
    "\n",
    "fpr, tpr, thresholds = roc_curve(y_test, y_probs)\n",
    "auc_score = roc_auc_score(y_test, y_probs)\n",
    "\n",
    "plt.figure(figsize=(8, 6))\n",
    "plt.plot(fpr, tpr, label=f\"AUC = {auc_score:.2f}\", color='darkorange', linewidth=2)\n",
    "plt.plot([0, 1], [0, 1], linestyle='--', color='gray')\n",
    "plt.xlabel('False Positive Rate')\n",
    "plt.ylabel('True Positive Rate')\n",
    "plt.title('ROC Curve - Logistic Regression')\n",
    "plt.legend(loc='lower right')\n",
    "plt.grid(True)\n",
    "plt.tight_layout()\n",
    "plt.show()"
   ]
  },
  {
   "cell_type": "markdown",
   "id": "34677b93-a9eb-4f38-af29-b5754de169e3",
   "metadata": {},
   "source": [
    "## 🏁 Conclusion\n",
    "\n",
    "In this project, we analyzed IPL data from 2008 to 2024 by combining ball-by-ball and match-level datasets. Through data cleaning, transformation, and exploratory visualizations, we identified patterns in batting styles, bowling economy, match phases, and venue performances.\n",
    "\n",
    "We then applied a Logistic Regression model to predict whether the toss-winning team also wins the match. While the model showed reasonable accuracy, it revealed that toss decisions alone are not strong predictors of the final outcome — cricket remains a complex, multi-factor game.\n",
    "\n",
    "Overall, this analysis showcased how data-driven insights can help uncover trends and support predictive modeling in sports analytics."
   ]
  }
 ],
 "metadata": {
  "kernelspec": {
   "display_name": "Python 3 (ipykernel)",
   "language": "python",
   "name": "python3"
  },
  "language_info": {
   "codemirror_mode": {
    "name": "ipython",
    "version": 3
   },
   "file_extension": ".py",
   "mimetype": "text/x-python",
   "name": "python",
   "nbconvert_exporter": "python",
   "pygments_lexer": "ipython3",
   "version": "3.13.3"
  }
 },
 "nbformat": 4,
 "nbformat_minor": 5
}
